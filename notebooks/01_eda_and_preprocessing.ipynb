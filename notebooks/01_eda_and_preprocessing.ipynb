{
 "cells": [
  {
   "cell_type": "markdown",
   "id": "1c1a0946",
   "metadata": {},
   "source": [
    "# Exploratory Data Analysis  on Ml-10M100k\n",
    "\n",
    "Notebook to perform data explorationi on Movie 10M \n",
    "\n",
    "1. Understand user and movie distributions\n",
    "\n",
    "2. Preprocess ratings: normalize, filter users/movies with few interactions\n",
    "\n",
    "3. Merge with metadata if need be (genres, titles, etc.)"
   ]
  },
  {
   "cell_type": "markdown",
   "id": "be01b513",
   "metadata": {},
   "source": [
    "From teh Readme, the Mk-10m file contains:\n",
    "\n",
    "| File          | Description                             | Relevance to Project                           |\n",
    "| ------------- | --------------------------------------- | ---------------------------------------------- |\n",
    "| `ratings.dat` | User ratings for movies with timestamps | **Core reward signal**; your \"bandit feedback\" |\n",
    "| `movies.dat`  | Movie titles and genres                 | **Contextual features** (genre) and metadata   |\n",
    "| `tags.dat`    | User-generated tags on movies           | Optional: more **contextual info** for movies  |\n"
   ]
  },
  {
   "cell_type": "code",
   "execution_count": 1,
   "id": "bcc33a4f",
   "metadata": {},
   "outputs": [],
   "source": [
    "import numpy as np\n",
    "import pandas as pd"
   ]
  },
  {
   "cell_type": "markdown",
   "id": "9286b379",
   "metadata": {},
   "source": [
    "## EDA on Ratings\n",
    "\n",
    "Find out\n",
    "1. Total number of users, movies and rating\n",
    "2. Rating distribution\n",
    "3. Plot number of ratings per user, and per movie for popularity\n",
    "\n",
    "Filter out\n",
    "- Users with too few ratings (e.g., <10).\n",
    "- Movies with very few ratings (e.g., <5).\n"
   ]
  },
  {
   "cell_type": "markdown",
   "id": "99eb1f38",
   "metadata": {},
   "source": [
    "### 1. Total number of users, movies and rating"
   ]
  },
  {
   "cell_type": "code",
   "execution_count": 2,
   "id": "3314ea5b",
   "metadata": {},
   "outputs": [
    {
     "name": "stderr",
     "output_type": "stream",
     "text": [
      "/tmp/ipykernel_3012/1043898624.py:2: ParserWarning: Falling back to the 'python' engine because the 'c' engine does not support regex separators (separators > 1 char and different from '\\s+' are interpreted as regex); you can avoid this warning by specifying engine='python'.\n",
      "  ratings = pd.read_csv(\"../data/ml-10M100K/ratings.dat\", sep=\"::\",names = rating_cols)\n"
     ]
    }
   ],
   "source": [
    "rating_cols = ['UserID','MovieID','Rating','Timestamp']\n",
    "ratings = pd.read_csv(\"../data/ml-10M100K/ratings.dat\", sep=\"::\",names = rating_cols)"
   ]
  },
  {
   "cell_type": "code",
   "execution_count": 3,
   "id": "9476ded1",
   "metadata": {},
   "outputs": [
    {
     "data": {
      "text/html": [
       "<div>\n",
       "<style scoped>\n",
       "    .dataframe tbody tr th:only-of-type {\n",
       "        vertical-align: middle;\n",
       "    }\n",
       "\n",
       "    .dataframe tbody tr th {\n",
       "        vertical-align: top;\n",
       "    }\n",
       "\n",
       "    .dataframe thead th {\n",
       "        text-align: right;\n",
       "    }\n",
       "</style>\n",
       "<table border=\"1\" class=\"dataframe\">\n",
       "  <thead>\n",
       "    <tr style=\"text-align: right;\">\n",
       "      <th></th>\n",
       "      <th>UserID</th>\n",
       "      <th>MovieID</th>\n",
       "      <th>Rating</th>\n",
       "      <th>Timestamp</th>\n",
       "    </tr>\n",
       "  </thead>\n",
       "  <tbody>\n",
       "    <tr>\n",
       "      <th>0</th>\n",
       "      <td>1</td>\n",
       "      <td>122</td>\n",
       "      <td>5.0</td>\n",
       "      <td>838985046</td>\n",
       "    </tr>\n",
       "    <tr>\n",
       "      <th>1</th>\n",
       "      <td>1</td>\n",
       "      <td>185</td>\n",
       "      <td>5.0</td>\n",
       "      <td>838983525</td>\n",
       "    </tr>\n",
       "    <tr>\n",
       "      <th>2</th>\n",
       "      <td>1</td>\n",
       "      <td>231</td>\n",
       "      <td>5.0</td>\n",
       "      <td>838983392</td>\n",
       "    </tr>\n",
       "    <tr>\n",
       "      <th>3</th>\n",
       "      <td>1</td>\n",
       "      <td>292</td>\n",
       "      <td>5.0</td>\n",
       "      <td>838983421</td>\n",
       "    </tr>\n",
       "    <tr>\n",
       "      <th>4</th>\n",
       "      <td>1</td>\n",
       "      <td>316</td>\n",
       "      <td>5.0</td>\n",
       "      <td>838983392</td>\n",
       "    </tr>\n",
       "  </tbody>\n",
       "</table>\n",
       "</div>"
      ],
      "text/plain": [
       "   UserID  MovieID  Rating  Timestamp\n",
       "0       1      122     5.0  838985046\n",
       "1       1      185     5.0  838983525\n",
       "2       1      231     5.0  838983392\n",
       "3       1      292     5.0  838983421\n",
       "4       1      316     5.0  838983392"
      ]
     },
     "execution_count": 3,
     "metadata": {},
     "output_type": "execute_result"
    }
   ],
   "source": [
    "ratings.head()"
   ]
  },
  {
   "cell_type": "code",
   "execution_count": 4,
   "id": "9a481d9b",
   "metadata": {},
   "outputs": [
    {
     "name": "stdout",
     "output_type": "stream",
     "text": [
      " the total number of unique users are 69878\n"
     ]
    }
   ],
   "source": [
    "#Total number of users\n",
    "total_users = ratings.UserID.unique()\n",
    "print(f\" the total number of unique users are {len(total_users)}\")"
   ]
  },
  {
   "cell_type": "code",
   "execution_count": 5,
   "id": "2dda3c17",
   "metadata": {},
   "outputs": [
    {
     "name": "stdout",
     "output_type": "stream",
     "text": [
      "the total number of unique movies are 10677\n"
     ]
    }
   ],
   "source": [
    "#Total number of movies\n",
    "total_movies = ratings.MovieID.unique()\n",
    "print(f\"the total number of unique movies are {len(total_movies)}\")"
   ]
  },
  {
   "cell_type": "code",
   "execution_count": 6,
   "id": "c450c93f",
   "metadata": {},
   "outputs": [
    {
     "name": "stdout",
     "output_type": "stream",
     "text": [
      "the total number of unique Rating are 10\n",
      "and they are [0.5 1.  1.5 2.  2.5 3.  3.5 4.  4.5 5. ]\n"
     ]
    }
   ],
   "source": [
    "#Total number of raitngs\n",
    "total_ratings = ratings.Rating.unique()\n",
    "total_ratings.sort()\n",
    "print(f\"the total number of unique Rating are {len(total_ratings)}\\nand they are {total_ratings}\")"
   ]
  },
  {
   "cell_type": "markdown",
   "id": "e0a96ff5",
   "metadata": {},
   "source": [
    "### 2. Rating destribution\n",
    "\n",
    "Understanding how users rate items. This gives us intuition about the following:\n",
    "\n",
    "- User behavior (Are users generous? Are they biased?)\n",
    "- Sparsity or skewness in the data\n",
    "- Potential bias in the reward function (in bandits or RL framing)\n",
    "- What a baseline model (like random or popularity-based) might look like\n"
   ]
  },
  {
   "cell_type": "code",
   "execution_count": 7,
   "id": "10a8afd3",
   "metadata": {},
   "outputs": [
    {
     "name": "stdout",
     "output_type": "stream",
     "text": [
      "Average user preference (mean rating): 3.51\n"
     ]
    }
   ],
   "source": [
    "#Mean Rating\n",
    "\n",
    "average_rating = ratings['Rating'].mean()\n",
    "print(f\"Average user preference (mean rating): {average_rating:.2f}\")"
   ]
  },
  {
   "cell_type": "code",
   "execution_count": 8,
   "id": "e1e35b7d",
   "metadata": {},
   "outputs": [
    {
     "name": "stdout",
     "output_type": "stream",
     "text": [
      "Variance of ratings: 1.12\n",
      "Standard deviation of ratings: 1.06\n"
     ]
    }
   ],
   "source": [
    "# Variance and Standard Deviation of Ratings\n",
    "rating_variance = ratings[\"Rating\"].var()\n",
    "rating_std = ratings[\"Rating\"].std()\n",
    "print(f\"Variance of ratings: {rating_variance:.2f}\")\n",
    "print(f\"Standard deviation of ratings: {rating_std:.2f}\")"
   ]
  },
  {
   "cell_type": "markdown",
   "id": "2932f8b9",
   "metadata": {},
   "source": [
    "High variance → polarized opinions (some love it, some hate it).\n",
    "\n",
    "Low variance → users agree more or are more neutral.\n",
    "\n",
    "This is low var/std"
   ]
  },
  {
   "cell_type": "code",
   "execution_count": 9,
   "id": "a1eb0307",
   "metadata": {},
   "outputs": [],
   "source": [
    "#Mean and Variance Interpretation per movie\n",
    "mean_ratings_per_movie = ratings.groupby('MovieID')['Rating'].mean()\n",
    "variance_ratings_per_movie = ratings.groupby('MovieID')['Rating'].var()\n",
    "rating_counts_per_movie = ratings.groupby('MovieID')['Rating'].count()\n"
   ]
  },
  {
   "cell_type": "code",
   "execution_count": 10,
   "id": "595816f5",
   "metadata": {},
   "outputs": [
    {
     "data": {
      "text/plain": [
       "MovieID\n",
       "1        3.928769\n",
       "2        3.208070\n",
       "3        3.150385\n",
       "4        2.860544\n",
       "5        3.077435\n",
       "           ...   \n",
       "65088    3.062500\n",
       "65091    3.666667\n",
       "65126    3.666667\n",
       "65130    2.250000\n",
       "65133    3.357143\n",
       "Name: Rating, Length: 10677, dtype: float64"
      ]
     },
     "execution_count": 10,
     "metadata": {},
     "output_type": "execute_result"
    }
   ],
   "source": [
    "# mean\n",
    "mean_ratings_per_movie"
   ]
  },
  {
   "cell_type": "code",
   "execution_count": 11,
   "id": "fc55ee88",
   "metadata": {},
   "outputs": [
    {
     "data": {
      "text/plain": [
       "MovieID\n",
       "1        0.803380\n",
       "2        0.905024\n",
       "3        1.010345\n",
       "4        1.183037\n",
       "5        0.931030\n",
       "           ...   \n",
       "65088    1.102679\n",
       "65091    0.083333\n",
       "65126    0.583333\n",
       "65130    0.125000\n",
       "65133    1.726190\n",
       "Name: Rating, Length: 10677, dtype: float64"
      ]
     },
     "execution_count": 11,
     "metadata": {},
     "output_type": "execute_result"
    }
   ],
   "source": [
    "#var \n",
    "variance_ratings_per_movie"
   ]
  },
  {
   "cell_type": "code",
   "execution_count": 12,
   "id": "c52c3fbc",
   "metadata": {},
   "outputs": [
    {
     "data": {
      "text/plain": [
       "MovieID\n",
       "1        26449\n",
       "2        12032\n",
       "3         7790\n",
       "4         1764\n",
       "5         7135\n",
       "         ...  \n",
       "65088        8\n",
       "65091        3\n",
       "65126        3\n",
       "65130        2\n",
       "65133        7\n",
       "Name: Rating, Length: 10677, dtype: int64"
      ]
     },
     "execution_count": 12,
     "metadata": {},
     "output_type": "execute_result"
    }
   ],
   "source": [
    "#count\n",
    "rating_counts_per_movie"
   ]
  },
  {
   "cell_type": "code",
   "execution_count": 13,
   "id": "5a4ac655",
   "metadata": {},
   "outputs": [],
   "source": [
    "import pandas as pd\n",
    "import matplotlib.pyplot as plt\n",
    "import seaborn as sns"
   ]
  },
  {
   "cell_type": "code",
   "execution_count": 14,
   "id": "71dd9576",
   "metadata": {},
   "outputs": [
    {
     "data": {
      "image/png": "[encoded data removed]",
      "text/plain": [
       "<Figure size 1000x600 with 1 Axes>"
      ]
     },
     "metadata": {},
     "output_type": "display_data"
    }
   ],
   "source": [
    "# Histogram for Rating Desitribution \n",
    "\n",
    "# Set the style of the visualization for a clean look\n",
    "sns.set_style(\"whitegrid\")\n",
    "\n",
    "# Create a figure and axes for the plot\n",
    "plt.figure(figsize=(10, 6))\n",
    "\n",
    "sns.histplot(data=ratings, x='Rating', bins=9, kde=False, color='skyblue', discrete=True)\n",
    "\n",
    "plt.title('Distribution of Movie Ratings', fontsize=16)\n",
    "plt.xlabel('Rating', fontsize=12)\n",
    "plt.ylabel('Number of Ratings', fontsize=12)\n",
    "\n",
    "plt.gca().yaxis.set_major_formatter(plt.FuncFormatter(lambda x, p: format(int(x), ',')))\n",
    "\n",
    "plt.show()\n"
   ]
  },
  {
   "cell_type": "markdown",
   "id": "755517cb",
   "metadata": {},
   "source": [
    "📊 Observations from the Histogram\n",
    "Skewed Toward High Ratings:\n",
    "\n",
    "The majority of ratings are 3.0, 4.0, and 5.0.\n",
    "\n",
    "4.0 has the highest number of ratings, followed by 3.0 and 5.0.\n",
    "\n",
    "Low ratings (0.5–2.0) are relatively rare.\n",
    "\n",
    "Imbalanced Rating Distribution:\n",
    "\n",
    "This is typical of real-world datasets where:\n",
    "\n",
    "Users are more likely to rate movies they liked.\n",
    "\n",
    "There’s a positivity bias—many people avoid giving bad ratings unless a movie is extremely poor.\n",
    "\n",
    "This will affect learning, especially in reinforcement learning (RL) or bandit setups, where positive feedback dominates.\n",
    "\n",
    "Implication on Multi-Armed Bandit Setting:\n",
    "\n",
    "If you model each movie as an arm, the average reward (mean rating) per movie will generally be biased upwards.\n",
    "\n",
    "Variance will help identify how confidently you can expect a particular movie’s rating."
   ]
  },
  {
   "cell_type": "markdown",
   "id": "558d43f3",
   "metadata": {},
   "source": [
    "## EDA on movies dataset"
   ]
  },
  {
   "cell_type": "code",
   "execution_count": 15,
   "id": "445dede5",
   "metadata": {},
   "outputs": [
    {
     "name": "stderr",
     "output_type": "stream",
     "text": [
      "/tmp/ipykernel_3012/1942783614.py:2: ParserWarning: Falling back to the 'python' engine because the 'c' engine does not support regex separators (separators > 1 char and different from '\\s+' are interpreted as regex); you can avoid this warning by specifying engine='python'.\n",
      "  movies = pd.read_csv(\"../data/ml-10M100K/movies.dat\", sep=\"::\",names = movies_cols)\n"
     ]
    }
   ],
   "source": [
    "movies_cols = ['MovieID','Title','Genres']\n",
    "movies = pd.read_csv(\"../data/ml-10M100K/movies.dat\", sep=\"::\",names = movies_cols)"
   ]
  },
  {
   "cell_type": "code",
   "execution_count": null,
   "id": "0b7ae07d",
   "metadata": {},
   "outputs": [
    {
     "data": {
      "text/html": [
       "<div>\n",
       "<style scoped>\n",
       "    .dataframe tbody tr th:only-of-type {\n",
       "        vertical-align: middle;\n",
       "    }\n",
       "\n",
       "    .dataframe tbody tr th {\n",
       "        vertical-align: top;\n",
       "    }\n",
       "\n",
       "    .dataframe thead th {\n",
       "        text-align: right;\n",
       "    }\n",
       "</style>\n",
       "<table border=\"1\" class=\"dataframe\">\n",
       "  <thead>\n",
       "    <tr style=\"text-align: right;\">\n",
       "      <th></th>\n",
       "      <th>MovieID</th>\n",
       "      <th>Title</th>\n",
       "      <th>Genres</th>\n",
       "    </tr>\n",
       "  </thead>\n",
       "  <tbody>\n",
       "    <tr>\n",
       "      <th>0</th>\n",
       "      <td>1</td>\n",
       "      <td>Toy Story (1995)</td>\n",
       "      <td>Adventure|Animation|Children|Comedy|Fantasy</td>\n",
       "    </tr>\n",
       "    <tr>\n",
       "      <th>1</th>\n",
       "      <td>2</td>\n",
       "      <td>Jumanji (1995)</td>\n",
       "      <td>Adventure|Children|Fantasy</td>\n",
       "    </tr>\n",
       "    <tr>\n",
       "      <th>2</th>\n",
       "      <td>3</td>\n",
       "      <td>Grumpier Old Men (1995)</td>\n",
       "      <td>Comedy|Romance</td>\n",
       "    </tr>\n",
       "    <tr>\n",
       "      <th>3</th>\n",
       "      <td>4</td>\n",
       "      <td>Waiting to Exhale (1995)</td>\n",
       "      <td>Comedy|Drama|Romance</td>\n",
       "    </tr>\n",
       "    <tr>\n",
       "      <th>4</th>\n",
       "      <td>5</td>\n",
       "      <td>Father of the Bride Part II (1995)</td>\n",
       "      <td>Comedy</td>\n",
       "    </tr>\n",
       "  </tbody>\n",
       "</table>\n",
       "</div>"
      ],
      "text/plain": [
       "   MovieID                               Title  \\\n",
       "0        1                    Toy Story (1995)   \n",
       "1        2                      Jumanji (1995)   \n",
       "2        3             Grumpier Old Men (1995)   \n",
       "3        4            Waiting to Exhale (1995)   \n",
       "4        5  Father of the Bride Part II (1995)   \n",
       "\n",
       "                                        Genres  \n",
       "0  Adventure|Animation|Children|Comedy|Fantasy  \n",
       "1                   Adventure|Children|Fantasy  \n",
       "2                               Comedy|Romance  \n",
       "3                         Comedy|Drama|Romance  \n",
       "4                                       Comedy  "
      ]
     },
     "execution_count": 16,
     "metadata": {},
     "output_type": "execute_result"
    }
   ],
   "source": [
    "movies.head()"
   ]
  },
  {
   "cell_type": "code",
   "execution_count": 17,
   "id": "dd915718",
   "metadata": {},
   "outputs": [],
   "source": [
    "# Extract the year from the Title column\n",
    "movies['Year'] = movies['Title'].str.extract(r'\\((\\d{4})\\)').astype(float)\n",
    "\n",
    "# Extract the movie title without the year\n",
    "movies['Title'] = movies['Title'].str.replace(r'\\s*\\(\\d{4}\\)', '', regex=True).str.strip()"
   ]
  },
  {
   "cell_type": "code",
   "execution_count": 18,
   "id": "041eea8a",
   "metadata": {},
   "outputs": [
    {
     "data": {
      "text/html": [
       "<div>\n",
       "<style scoped>\n",
       "    .dataframe tbody tr th:only-of-type {\n",
       "        vertical-align: middle;\n",
       "    }\n",
       "\n",
       "    .dataframe tbody tr th {\n",
       "        vertical-align: top;\n",
       "    }\n",
       "\n",
       "    .dataframe thead th {\n",
       "        text-align: right;\n",
       "    }\n",
       "</style>\n",
       "<table border=\"1\" class=\"dataframe\">\n",
       "  <thead>\n",
       "    <tr style=\"text-align: right;\">\n",
       "      <th></th>\n",
       "      <th>MovieID</th>\n",
       "      <th>Title</th>\n",
       "      <th>Genres</th>\n",
       "      <th>Year</th>\n",
       "    </tr>\n",
       "  </thead>\n",
       "  <tbody>\n",
       "    <tr>\n",
       "      <th>0</th>\n",
       "      <td>1</td>\n",
       "      <td>Toy Story</td>\n",
       "      <td>Adventure|Animation|Children|Comedy|Fantasy</td>\n",
       "      <td>1995.0</td>\n",
       "    </tr>\n",
       "    <tr>\n",
       "      <th>1</th>\n",
       "      <td>2</td>\n",
       "      <td>Jumanji</td>\n",
       "      <td>Adventure|Children|Fantasy</td>\n",
       "      <td>1995.0</td>\n",
       "    </tr>\n",
       "    <tr>\n",
       "      <th>2</th>\n",
       "      <td>3</td>\n",
       "      <td>Grumpier Old Men</td>\n",
       "      <td>Comedy|Romance</td>\n",
       "      <td>1995.0</td>\n",
       "    </tr>\n",
       "    <tr>\n",
       "      <th>3</th>\n",
       "      <td>4</td>\n",
       "      <td>Waiting to Exhale</td>\n",
       "      <td>Comedy|Drama|Romance</td>\n",
       "      <td>1995.0</td>\n",
       "    </tr>\n",
       "    <tr>\n",
       "      <th>4</th>\n",
       "      <td>5</td>\n",
       "      <td>Father of the Bride Part II</td>\n",
       "      <td>Comedy</td>\n",
       "      <td>1995.0</td>\n",
       "    </tr>\n",
       "  </tbody>\n",
       "</table>\n",
       "</div>"
      ],
      "text/plain": [
       "   MovieID                        Title  \\\n",
       "0        1                    Toy Story   \n",
       "1        2                      Jumanji   \n",
       "2        3             Grumpier Old Men   \n",
       "3        4            Waiting to Exhale   \n",
       "4        5  Father of the Bride Part II   \n",
       "\n",
       "                                        Genres    Year  \n",
       "0  Adventure|Animation|Children|Comedy|Fantasy  1995.0  \n",
       "1                   Adventure|Children|Fantasy  1995.0  \n",
       "2                               Comedy|Romance  1995.0  \n",
       "3                         Comedy|Drama|Romance  1995.0  \n",
       "4                                       Comedy  1995.0  "
      ]
     },
     "execution_count": 18,
     "metadata": {},
     "output_type": "execute_result"
    }
   ],
   "source": [
    "movies.head()"
   ]
  },
  {
   "cell_type": "code",
   "execution_count": 19,
   "id": "34fde206",
   "metadata": {},
   "outputs": [],
   "source": [
    "#Create Multi-Hot Genre Encoding \n",
    "#These features can be used in contextual representations of items (arms), useful for LinUCB or Neural Bandits.\n",
    "\n",
    "\n",
    "all_genres = sorted(set('|'.join(movies['Genres']).split('|')))\n",
    "genre_map = {genre: idx for idx, genre in enumerate(all_genres)}\n"
   ]
  },
  {
   "cell_type": "code",
   "execution_count": 20,
   "id": "49c19818",
   "metadata": {},
   "outputs": [],
   "source": [
    "import numpy as np\n",
    "\n",
    "def multi_hot_encode(genres_str, genre_map):\n",
    "    vec = np.zeros(len(genre_map), dtype=int)\n",
    "    for genre in genres_str.split('|'):\n",
    "        vec[genre_map[genre]] = 1\n",
    "    return vec\n",
    "\n",
    "# Apply to each row\n",
    "genre_features = movies['Genres'].apply(lambda g: multi_hot_encode(g, genre_map))\n",
    "genre_df = pd.DataFrame(genre_features.tolist(), columns=[f\"Genre_{g}\" for g in all_genres])\n"
   ]
  },
  {
   "cell_type": "code",
   "execution_count": 21,
   "id": "a1b57e1b",
   "metadata": {},
   "outputs": [],
   "source": [
    "# Combine with the main movies DataFrame\n",
    "movies = pd.concat([movies, genre_df], axis=1)"
   ]
  },
  {
   "cell_type": "code",
   "execution_count": null,
   "id": "5c5ee0b1",
   "metadata": {},
   "outputs": [],
   "source": [
    "# Combine with the main movies DataFrame with the ratings DataFrame, making sure all the movies and ratings are alines\n"
   ]
  },
  {
   "cell_type": "code",
   "execution_count": 22,
   "id": "1c84b004",
   "metadata": {},
   "outputs": [
    {
     "data": {
      "text/html": [
       "<div>\n",
       "<style scoped>\n",
       "    .dataframe tbody tr th:only-of-type {\n",
       "        vertical-align: middle;\n",
       "    }\n",
       "\n",
       "    .dataframe tbody tr th {\n",
       "        vertical-align: top;\n",
       "    }\n",
       "\n",
       "    .dataframe thead th {\n",
       "        text-align: right;\n",
       "    }\n",
       "</style>\n",
       "<table border=\"1\" class=\"dataframe\">\n",
       "  <thead>\n",
       "    <tr style=\"text-align: right;\">\n",
       "      <th></th>\n",
       "      <th>MovieID</th>\n",
       "      <th>Title</th>\n",
       "      <th>Genres</th>\n",
       "      <th>Year</th>\n",
       "      <th>Genre_(no genres listed)</th>\n",
       "      <th>Genre_Action</th>\n",
       "      <th>Genre_Adventure</th>\n",
       "      <th>Genre_Animation</th>\n",
       "      <th>Genre_Children</th>\n",
       "      <th>Genre_Comedy</th>\n",
       "      <th>...</th>\n",
       "      <th>Genre_Film-Noir</th>\n",
       "      <th>Genre_Horror</th>\n",
       "      <th>Genre_IMAX</th>\n",
       "      <th>Genre_Musical</th>\n",
       "      <th>Genre_Mystery</th>\n",
       "      <th>Genre_Romance</th>\n",
       "      <th>Genre_Sci-Fi</th>\n",
       "      <th>Genre_Thriller</th>\n",
       "      <th>Genre_War</th>\n",
       "      <th>Genre_Western</th>\n",
       "    </tr>\n",
       "  </thead>\n",
       "  <tbody>\n",
       "    <tr>\n",
       "      <th>0</th>\n",
       "      <td>1</td>\n",
       "      <td>Toy Story</td>\n",
       "      <td>Adventure|Animation|Children|Comedy|Fantasy</td>\n",
       "      <td>1995.0</td>\n",
       "      <td>0</td>\n",
       "      <td>0</td>\n",
       "      <td>1</td>\n",
       "      <td>1</td>\n",
       "      <td>1</td>\n",
       "      <td>1</td>\n",
       "      <td>...</td>\n",
       "      <td>0</td>\n",
       "      <td>0</td>\n",
       "      <td>0</td>\n",
       "      <td>0</td>\n",
       "      <td>0</td>\n",
       "      <td>0</td>\n",
       "      <td>0</td>\n",
       "      <td>0</td>\n",
       "      <td>0</td>\n",
       "      <td>0</td>\n",
       "    </tr>\n",
       "    <tr>\n",
       "      <th>1</th>\n",
       "      <td>2</td>\n",
       "      <td>Jumanji</td>\n",
       "      <td>Adventure|Children|Fantasy</td>\n",
       "      <td>1995.0</td>\n",
       "      <td>0</td>\n",
       "      <td>0</td>\n",
       "      <td>1</td>\n",
       "      <td>0</td>\n",
       "      <td>1</td>\n",
       "      <td>0</td>\n",
       "      <td>...</td>\n",
       "      <td>0</td>\n",
       "      <td>0</td>\n",
       "      <td>0</td>\n",
       "      <td>0</td>\n",
       "      <td>0</td>\n",
       "      <td>0</td>\n",
       "      <td>0</td>\n",
       "      <td>0</td>\n",
       "      <td>0</td>\n",
       "      <td>0</td>\n",
       "    </tr>\n",
       "    <tr>\n",
       "      <th>2</th>\n",
       "      <td>3</td>\n",
       "      <td>Grumpier Old Men</td>\n",
       "      <td>Comedy|Romance</td>\n",
       "      <td>1995.0</td>\n",
       "      <td>0</td>\n",
       "      <td>0</td>\n",
       "      <td>0</td>\n",
       "      <td>0</td>\n",
       "      <td>0</td>\n",
       "      <td>1</td>\n",
       "      <td>...</td>\n",
       "      <td>0</td>\n",
       "      <td>0</td>\n",
       "      <td>0</td>\n",
       "      <td>0</td>\n",
       "      <td>0</td>\n",
       "      <td>1</td>\n",
       "      <td>0</td>\n",
       "      <td>0</td>\n",
       "      <td>0</td>\n",
       "      <td>0</td>\n",
       "    </tr>\n",
       "    <tr>\n",
       "      <th>3</th>\n",
       "      <td>4</td>\n",
       "      <td>Waiting to Exhale</td>\n",
       "      <td>Comedy|Drama|Romance</td>\n",
       "      <td>1995.0</td>\n",
       "      <td>0</td>\n",
       "      <td>0</td>\n",
       "      <td>0</td>\n",
       "      <td>0</td>\n",
       "      <td>0</td>\n",
       "      <td>1</td>\n",
       "      <td>...</td>\n",
       "      <td>0</td>\n",
       "      <td>0</td>\n",
       "      <td>0</td>\n",
       "      <td>0</td>\n",
       "      <td>0</td>\n",
       "      <td>1</td>\n",
       "      <td>0</td>\n",
       "      <td>0</td>\n",
       "      <td>0</td>\n",
       "      <td>0</td>\n",
       "    </tr>\n",
       "    <tr>\n",
       "      <th>4</th>\n",
       "      <td>5</td>\n",
       "      <td>Father of the Bride Part II</td>\n",
       "      <td>Comedy</td>\n",
       "      <td>1995.0</td>\n",
       "      <td>0</td>\n",
       "      <td>0</td>\n",
       "      <td>0</td>\n",
       "      <td>0</td>\n",
       "      <td>0</td>\n",
       "      <td>1</td>\n",
       "      <td>...</td>\n",
       "      <td>0</td>\n",
       "      <td>0</td>\n",
       "      <td>0</td>\n",
       "      <td>0</td>\n",
       "      <td>0</td>\n",
       "      <td>0</td>\n",
       "      <td>0</td>\n",
       "      <td>0</td>\n",
       "      <td>0</td>\n",
       "      <td>0</td>\n",
       "    </tr>\n",
       "  </tbody>\n",
       "</table>\n",
       "<p>5 rows × 24 columns</p>\n",
       "</div>"
      ],
      "text/plain": [
       "   MovieID                        Title  \\\n",
       "0        1                    Toy Story   \n",
       "1        2                      Jumanji   \n",
       "2        3             Grumpier Old Men   \n",
       "3        4            Waiting to Exhale   \n",
       "4        5  Father of the Bride Part II   \n",
       "\n",
       "                                        Genres    Year  \\\n",
       "0  Adventure|Animation|Children|Comedy|Fantasy  1995.0   \n",
       "1                   Adventure|Children|Fantasy  1995.0   \n",
       "2                               Comedy|Romance  1995.0   \n",
       "3                         Comedy|Drama|Romance  1995.0   \n",
       "4                                       Comedy  1995.0   \n",
       "\n",
       "   Genre_(no genres listed)  Genre_Action  Genre_Adventure  Genre_Animation  \\\n",
       "0                         0             0                1                1   \n",
       "1                         0             0                1                0   \n",
       "2                         0             0                0                0   \n",
       "3                         0             0                0                0   \n",
       "4                         0             0                0                0   \n",
       "\n",
       "   Genre_Children  Genre_Comedy  ...  Genre_Film-Noir  Genre_Horror  \\\n",
       "0               1             1  ...                0             0   \n",
       "1               1             0  ...                0             0   \n",
       "2               0             1  ...                0             0   \n",
       "3               0             1  ...                0             0   \n",
       "4               0             1  ...                0             0   \n",
       "\n",
       "   Genre_IMAX  Genre_Musical  Genre_Mystery  Genre_Romance  Genre_Sci-Fi  \\\n",
       "0           0              0              0              0             0   \n",
       "1           0              0              0              0             0   \n",
       "2           0              0              0              1             0   \n",
       "3           0              0              0              1             0   \n",
       "4           0              0              0              0             0   \n",
       "\n",
       "   Genre_Thriller  Genre_War  Genre_Western  \n",
       "0               0          0              0  \n",
       "1               0          0              0  \n",
       "2               0          0              0  \n",
       "3               0          0              0  \n",
       "4               0          0              0  \n",
       "\n",
       "[5 rows x 24 columns]"
      ]
     },
     "execution_count": 22,
     "metadata": {},
     "output_type": "execute_result"
    }
   ],
   "source": [
    "movies.head()"
   ]
  },
  {
   "cell_type": "code",
   "execution_count": 24,
   "id": "1bbbe9f0",
   "metadata": {},
   "outputs": [
    {
     "data": {
      "text/plain": [
       "(10681, 20)"
      ]
     },
     "execution_count": 24,
     "metadata": {},
     "output_type": "execute_result"
    }
   ],
   "source": [
    "genre_df.shape"
   ]
  },
  {
   "cell_type": "code",
   "execution_count": 25,
   "id": "bb421fc5",
   "metadata": {},
   "outputs": [
    {
     "data": {
      "text/plain": [
       "(10681, 24)"
      ]
     },
     "execution_count": 25,
     "metadata": {},
     "output_type": "execute_result"
    }
   ],
   "source": [
    "movies.shape"
   ]
  },
  {
   "cell_type": "code",
   "execution_count": 26,
   "id": "574f2089",
   "metadata": {},
   "outputs": [
    {
     "name": "stdout",
     "output_type": "stream",
     "text": [
      "Preprocessed movies saved to ../data/ml-10M100K/preprocessed_movies.csv\n"
     ]
    }
   ],
   "source": [
    "#save to a new csv file called preprocessed_movies.csv\n",
    "movies.to_csv(\"../data/ml-10M100K/preprocessed_movies.csv\", index=False)\n",
    "print(\"Preprocessed movies saved to ../data/ml-10M100K/preprocessed_movies.csv\")"
   ]
  },
  {
   "cell_type": "code",
   "execution_count": null,
   "id": "759509fb",
   "metadata": {},
   "outputs": [],
   "source": []
  }
 ],
 "metadata": {
  "kernelspec": {
   "display_name": "base",
   "language": "python",
   "name": "python3"
  },
  "language_info": {
   "codemirror_mode": {
    "name": "ipython",
    "version": 3
   },
   "file_extension": ".py",
   "mimetype": "text/x-python",
   "name": "python",
   "nbconvert_exporter": "python",
   "pygments_lexer": "ipython3",
   "version": "3.13.5"
  }
 },
 "nbformat": 4,
 "nbformat_minor": 5
}
